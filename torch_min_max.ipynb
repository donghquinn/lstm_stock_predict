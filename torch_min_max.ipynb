{
  "cells": [
    {
      "cell_type": "code",
      "execution_count": 1,
      "metadata": {
        "id": "8MIz_bCaVdtH"
      },
      "outputs": [],
      "source": [
        "import torch\n",
        "import pandas as pd\n",
        "import numpy as np"
      ]
    },
    {
      "cell_type": "code",
      "execution_count": 2,
      "metadata": {
        "colab": {
          "base_uri": "https://localhost:8080/",
          "height": 424
        },
        "id": "XMbwQGE9yEQR",
        "outputId": "e17080b8-89fd-4e69-9641-8933555b5c2a"
      },
      "outputs": [
        {
          "data": {
            "text/html": [
              "<div>\n",
              "<style scoped>\n",
              "    .dataframe tbody tr th:only-of-type {\n",
              "        vertical-align: middle;\n",
              "    }\n",
              "\n",
              "    .dataframe tbody tr th {\n",
              "        vertical-align: top;\n",
              "    }\n",
              "\n",
              "    .dataframe thead th {\n",
              "        text-align: right;\n",
              "    }\n",
              "</style>\n",
              "<table border=\"1\" class=\"dataframe\">\n",
              "  <thead>\n",
              "    <tr style=\"text-align: right;\">\n",
              "      <th></th>\n",
              "      <th>Open</th>\n",
              "      <th>High</th>\n",
              "      <th>Low</th>\n",
              "      <th>Volume</th>\n",
              "      <th>Close</th>\n",
              "    </tr>\n",
              "  </thead>\n",
              "  <tbody>\n",
              "    <tr>\n",
              "      <th>0</th>\n",
              "      <td>828.659973</td>\n",
              "      <td>833.450012</td>\n",
              "      <td>828.349976</td>\n",
              "      <td>1247700</td>\n",
              "      <td>831.659973</td>\n",
              "    </tr>\n",
              "    <tr>\n",
              "      <th>1</th>\n",
              "      <td>823.020020</td>\n",
              "      <td>828.070007</td>\n",
              "      <td>821.655029</td>\n",
              "      <td>1597800</td>\n",
              "      <td>828.070007</td>\n",
              "    </tr>\n",
              "    <tr>\n",
              "      <th>2</th>\n",
              "      <td>819.929993</td>\n",
              "      <td>824.400024</td>\n",
              "      <td>818.979980</td>\n",
              "      <td>1281700</td>\n",
              "      <td>824.159973</td>\n",
              "    </tr>\n",
              "    <tr>\n",
              "      <th>3</th>\n",
              "      <td>819.359985</td>\n",
              "      <td>823.000000</td>\n",
              "      <td>818.469971</td>\n",
              "      <td>1304000</td>\n",
              "      <td>818.979980</td>\n",
              "    </tr>\n",
              "    <tr>\n",
              "      <th>4</th>\n",
              "      <td>819.000000</td>\n",
              "      <td>823.000000</td>\n",
              "      <td>816.000000</td>\n",
              "      <td>1053600</td>\n",
              "      <td>820.450012</td>\n",
              "    </tr>\n",
              "    <tr>\n",
              "      <th>...</th>\n",
              "      <td>...</td>\n",
              "      <td>...</td>\n",
              "      <td>...</td>\n",
              "      <td>...</td>\n",
              "      <td>...</td>\n",
              "    </tr>\n",
              "    <tr>\n",
              "      <th>727</th>\n",
              "      <td>599.992707</td>\n",
              "      <td>604.832763</td>\n",
              "      <td>562.192568</td>\n",
              "      <td>147100</td>\n",
              "      <td>567.002574</td>\n",
              "    </tr>\n",
              "    <tr>\n",
              "      <th>728</th>\n",
              "      <td>558.712504</td>\n",
              "      <td>568.452595</td>\n",
              "      <td>558.712504</td>\n",
              "      <td>7900</td>\n",
              "      <td>567.162558</td>\n",
              "    </tr>\n",
              "    <tr>\n",
              "      <th>729</th>\n",
              "      <td>566.892592</td>\n",
              "      <td>567.002574</td>\n",
              "      <td>556.932537</td>\n",
              "      <td>10800</td>\n",
              "      <td>556.972503</td>\n",
              "    </tr>\n",
              "    <tr>\n",
              "      <th>730</th>\n",
              "      <td>561.202549</td>\n",
              "      <td>566.432590</td>\n",
              "      <td>558.672539</td>\n",
              "      <td>41200</td>\n",
              "      <td>559.992565</td>\n",
              "    </tr>\n",
              "    <tr>\n",
              "      <th>731</th>\n",
              "      <td>568.002570</td>\n",
              "      <td>568.002570</td>\n",
              "      <td>552.922516</td>\n",
              "      <td>13100</td>\n",
              "      <td>558.462551</td>\n",
              "    </tr>\n",
              "  </tbody>\n",
              "</table>\n",
              "<p>732 rows × 5 columns</p>\n",
              "</div>"
            ],
            "text/plain": [
              "           Open        High         Low   Volume       Close\n",
              "0    828.659973  833.450012  828.349976  1247700  831.659973\n",
              "1    823.020020  828.070007  821.655029  1597800  828.070007\n",
              "2    819.929993  824.400024  818.979980  1281700  824.159973\n",
              "3    819.359985  823.000000  818.469971  1304000  818.979980\n",
              "4    819.000000  823.000000  816.000000  1053600  820.450012\n",
              "..          ...         ...         ...      ...         ...\n",
              "727  599.992707  604.832763  562.192568   147100  567.002574\n",
              "728  558.712504  568.452595  558.712504     7900  567.162558\n",
              "729  566.892592  567.002574  556.932537    10800  556.972503\n",
              "730  561.202549  566.432590  558.672539    41200  559.992565\n",
              "731  568.002570  568.002570  552.922516    13100  558.462551\n",
              "\n",
              "[732 rows x 5 columns]"
            ]
          },
          "execution_count": 2,
          "metadata": {},
          "output_type": "execute_result"
        }
      ],
      "source": [
        "data = pd.read_csv(\"stock.csv\")\n",
        "data"
      ]
    },
    {
      "cell_type": "code",
      "execution_count": 3,
      "metadata": {
        "colab": {
          "base_uri": "https://localhost:8080/"
        },
        "id": "cv1juO7vSWE8",
        "outputId": "590bcc1d-9020-4b11-b2f2-9d6009dbd9c5"
      },
      "outputs": [
        {
          "data": {
            "text/plain": [
              "732"
            ]
          },
          "execution_count": 3,
          "metadata": {},
          "output_type": "execute_result"
        }
      ],
      "source": [
        "size = len(data)\n",
        "size"
      ]
    },
    {
      "cell_type": "code",
      "execution_count": 4,
      "metadata": {
        "id": "LQrkc_A5XfaO"
      },
      "outputs": [],
      "source": [
        "price = data[\"Close\"].values.astype(float)"
      ]
    },
    {
      "cell_type": "markdown",
      "metadata": {
        "id": "iKp2uUE4ZGzL"
      },
      "source": [
        "# 데이터 스케일링\n",
        "\n",
        "스케일링은 특성들이 서로 다른 범위를 가지고 있을 때, 동일한 범위의 값을 가질 수 있게 스케일링 하는 것을 의미.\n",
        "\n",
        ">예시\n",
        "* x1은 0 ~ 1 사이의 값을 가지고\n",
        "* x2는 1000 ~ 100000 사이의 값을 가지며\n",
        "* y는 100000 ~ 10000000 사이의 값을 가진다면\n",
        ">\n",
        "\n",
        "x1의 값은 y의 결과치에 영향을 주지 못함. 따라서 같은 범위 내의 값들로 변환시킬 필요가 있음.\n",
        "\n",
        "* 정규화 Normalization\n",
        "  - 이상치에 민감.\n",
        "  - 분류보다 회귀에 적합.\n",
        "  - 최대값 1, 최솟값 0으로 크기를 제한.\n",
        "  - 즉 값이 0~1 사이의 값이 나온다.\n",
        "\n",
        "* 표준화 Standardization\n",
        "  - 이상치에 민감.\n",
        "  - 회귀보다 분류에 적합.\n",
        "  - 평균을 0, 분산을 1로 스케일링.\n",
        "  - 최댓값 및 최솟값의 크기를 제한하지 않음."
      ]
    },
    {
      "cell_type": "code",
      "execution_count": 5,
      "metadata": {
        "id": "Y688ms4dTFIO"
      },
      "outputs": [],
      "source": [
        "from sklearn.preprocessing import MinMaxScaler\n",
        "\n",
        "# Scaling - 최대 / 최소 설정\n",
        "scaler_x = MinMaxScaler()\n",
        "price = scaler_x.fit_transform(price.reshape(-1, 1))"
      ]
    },
    {
      "cell_type": "markdown",
      "metadata": {
        "id": "l3FpisYQZBST"
      },
      "source": [
        "# 훈련 - 학습 데이터 분리"
      ]
    },
    {
      "cell_type": "code",
      "execution_count": 6,
      "metadata": {
        "id": "rtr6093vXz-p"
      },
      "outputs": [],
      "source": [
        "from sklearn.model_selection import train_test_split\n",
        "\n",
        "X, y = [], []\n",
        "\n",
        "seq_length = 10\n",
        "\n",
        "for i in range(len(price) - seq_length):\n",
        "  X.append(price[i:i+seq_length])\n",
        "  y.append(price[i+seq_length])\n",
        "\n",
        "X = np.array(X)\n",
        "y = np.array(y)"
      ]
    },
    {
      "cell_type": "code",
      "execution_count": 7,
      "metadata": {
        "id": "PmszwSi2YdaO"
      },
      "outputs": [],
      "source": [
        "X_train, X_test, y_train, y_test = train_test_split(X, y, test_size=0.3, random_state=42)"
      ]
    },
    {
      "cell_type": "code",
      "execution_count": 8,
      "metadata": {
        "id": "Te8JlBvvTH9M"
      },
      "outputs": [],
      "source": [
        "X_train = torch.tensor(X_train, dtype=torch.float32)\n",
        "y_train = torch.tensor(y_train, dtype=torch.float32)\n",
        "X_test = torch.tensor(X_test, dtype=torch.float32)\n",
        "y_test = torch.tensor(y_test, dtype=torch.float32)"
      ]
    },
    {
      "cell_type": "markdown",
      "metadata": {
        "id": "pGzUdUf2Y6rJ"
      },
      "source": [
        "# LSTM 모델 정의"
      ]
    },
    {
      "cell_type": "code",
      "execution_count": 9,
      "metadata": {
        "id": "XdimfTWSYhoM"
      },
      "outputs": [],
      "source": [
        "import torch.nn as nn\n",
        "\n",
        "# LSTM 모델 정의\n",
        "class StockPredictor(nn.Module):\n",
        "    def __init__(self, input_dim, hidden_dim, num_layers):\n",
        "        super(StockPredictor, self).__init__()\n",
        "        self.lstm = nn.LSTM(input_dim, hidden_dim, num_layers, batch_first=True)\n",
        "        self.linear = nn.Linear(hidden_dim, 1)\n",
        "\n",
        "    def forward(self, x):\n",
        "        out, _ = self.lstm(x)\n",
        "        out = self.linear(out[:, -1, :])\n",
        "        return out\n"
      ]
    },
    {
      "cell_type": "code",
      "execution_count": 10,
      "metadata": {
        "id": "tal_PbvIYmev"
      },
      "outputs": [],
      "source": [
        "input_dim = 1\n",
        "hidden_dim = 64\n",
        "num_layers = 2\n",
        "\n",
        "model = StockPredictor(input_dim, hidden_dim, num_layers)\n",
        "criterion = nn.MSELoss()\n",
        "optimizer = torch.optim.Adam(model.parameters(), lr=0.001)"
      ]
    },
    {
      "cell_type": "markdown",
      "metadata": {
        "id": "Eg5__SkAY4qu"
      },
      "source": [
        "# 훈련"
      ]
    },
    {
      "cell_type": "code",
      "execution_count": 11,
      "metadata": {
        "colab": {
          "base_uri": "https://localhost:8080/"
        },
        "id": "fATM2RX_YqLc",
        "outputId": "b2676c28-235b-4860-d084-313170bcd914"
      },
      "outputs": [
        {
          "name": "stdout",
          "output_type": "stream",
          "text": [
            "Epoch: 10, Loss: 0.11253084242343903\n",
            "Epoch: 20, Loss: 0.07794826477766037\n",
            "Epoch: 30, Loss: 0.05177939310669899\n",
            "Epoch: 40, Loss: 0.023042693734169006\n",
            "Epoch: 50, Loss: 0.005160838831216097\n",
            "Epoch: 60, Loss: 0.006082016509026289\n",
            "Epoch: 70, Loss: 0.003860107623040676\n",
            "Epoch: 80, Loss: 0.0035770798567682505\n",
            "Epoch: 90, Loss: 0.0030869892798364162\n",
            "Epoch: 100, Loss: 0.0028889260720461607\n"
          ]
        }
      ],
      "source": [
        "num_epochs = 100\n",
        "for epoch in range(num_epochs):\n",
        "    outputs = model(X_train)\n",
        "    optimizer.zero_grad()\n",
        "    loss = criterion(outputs, y_train)\n",
        "    loss.backward()\n",
        "    optimizer.step()\n",
        "\n",
        "    if (epoch+1) % 10 == 0:\n",
        "        print(f'Epoch: {epoch+1}, Loss: {loss.item()}')\n"
      ]
    },
    {
      "cell_type": "markdown",
      "metadata": {
        "id": "BeObXnbsYz_0"
      },
      "source": [
        "# 검증 진행"
      ]
    },
    {
      "cell_type": "code",
      "execution_count": 12,
      "metadata": {
        "colab": {
          "base_uri": "https://localhost:8080/"
        },
        "id": "nA4iZ63AYsOx",
        "outputId": "b8465df8-4709-4446-ee47-05de5692b57a"
      },
      "outputs": [
        {
          "name": "stdout",
          "output_type": "stream",
          "text": [
            "Mean Squared Error on Test Data: 0.003112873062491417\n"
          ]
        },
        {
          "data": {
            "text/html": [
              "<div>\n",
              "<style scoped>\n",
              "    .dataframe tbody tr th:only-of-type {\n",
              "        vertical-align: middle;\n",
              "    }\n",
              "\n",
              "    .dataframe tbody tr th {\n",
              "        vertical-align: top;\n",
              "    }\n",
              "\n",
              "    .dataframe thead th {\n",
              "        text-align: right;\n",
              "    }\n",
              "</style>\n",
              "<table border=\"1\" class=\"dataframe\">\n",
              "  <thead>\n",
              "    <tr style=\"text-align: right;\">\n",
              "      <th></th>\n",
              "      <th>Actual</th>\n",
              "      <th>Predicted</th>\n",
              "      <th>Error</th>\n",
              "    </tr>\n",
              "  </thead>\n",
              "  <tbody>\n",
              "    <tr>\n",
              "      <th>0</th>\n",
              "      <td>645.440002</td>\n",
              "      <td>638.596985</td>\n",
              "      <td>6.843018</td>\n",
              "    </tr>\n",
              "    <tr>\n",
              "      <th>1</th>\n",
              "      <td>506.902008</td>\n",
              "      <td>535.690002</td>\n",
              "      <td>-28.787994</td>\n",
              "    </tr>\n",
              "    <tr>\n",
              "      <th>2</th>\n",
              "      <td>541.081970</td>\n",
              "      <td>540.307007</td>\n",
              "      <td>0.774963</td>\n",
              "    </tr>\n",
              "    <tr>\n",
              "      <th>3</th>\n",
              "      <td>790.799988</td>\n",
              "      <td>794.296021</td>\n",
              "      <td>-3.496033</td>\n",
              "    </tr>\n",
              "    <tr>\n",
              "      <th>4</th>\n",
              "      <td>536.512024</td>\n",
              "      <td>543.143005</td>\n",
              "      <td>-6.630981</td>\n",
              "    </tr>\n",
              "    <tr>\n",
              "      <th>...</th>\n",
              "      <td>...</td>\n",
              "      <td>...</td>\n",
              "      <td>...</td>\n",
              "    </tr>\n",
              "    <tr>\n",
              "      <th>212</th>\n",
              "      <td>718.270020</td>\n",
              "      <td>683.216980</td>\n",
              "      <td>35.053040</td>\n",
              "    </tr>\n",
              "    <tr>\n",
              "      <th>213</th>\n",
              "      <td>731.250000</td>\n",
              "      <td>724.952026</td>\n",
              "      <td>6.297974</td>\n",
              "    </tr>\n",
              "    <tr>\n",
              "      <th>214</th>\n",
              "      <td>566.072021</td>\n",
              "      <td>564.825989</td>\n",
              "      <td>1.246033</td>\n",
              "    </tr>\n",
              "    <tr>\n",
              "      <th>215</th>\n",
              "      <td>501.791992</td>\n",
              "      <td>533.398010</td>\n",
              "      <td>-31.606018</td>\n",
              "    </tr>\n",
              "    <tr>\n",
              "      <th>216</th>\n",
              "      <td>629.250000</td>\n",
              "      <td>637.359985</td>\n",
              "      <td>-8.109985</td>\n",
              "    </tr>\n",
              "  </tbody>\n",
              "</table>\n",
              "<p>217 rows × 3 columns</p>\n",
              "</div>"
            ],
            "text/plain": [
              "         Actual   Predicted      Error\n",
              "0    645.440002  638.596985   6.843018\n",
              "1    506.902008  535.690002 -28.787994\n",
              "2    541.081970  540.307007   0.774963\n",
              "3    790.799988  794.296021  -3.496033\n",
              "4    536.512024  543.143005  -6.630981\n",
              "..          ...         ...        ...\n",
              "212  718.270020  683.216980  35.053040\n",
              "213  731.250000  724.952026   6.297974\n",
              "214  566.072021  564.825989   1.246033\n",
              "215  501.791992  533.398010 -31.606018\n",
              "216  629.250000  637.359985  -8.109985\n",
              "\n",
              "[217 rows x 3 columns]"
            ]
          },
          "execution_count": 12,
          "metadata": {},
          "output_type": "execute_result"
        }
      ],
      "source": [
        "from sklearn.metrics import mean_squared_error\n",
        "\n",
        "# 테스트\n",
        "model.eval()\n",
        "with torch.no_grad():\n",
        "    test_outputs = model(X_test)\n",
        "    mse = mean_squared_error(y_test, test_outputs)\n",
        "    print(f'Mean Squared Error on Test Data: {mse}')\n",
        "\n",
        "predicted_prices = scaler_x.inverse_transform(test_outputs.numpy())\n",
        "actual_prices = scaler_x.inverse_transform(y_test.numpy())\n",
        "\n",
        "data = {\n",
        "    \"Actual\": [round(val[0], 3) for val in actual_prices],\n",
        "    \"Predicted\": [round(val[0], 3) for val in predicted_prices]\n",
        "}\n",
        "\n",
        "result_frame = pd.DataFrame(data)\n",
        "result_frame[\"Error\"] = result_frame[\"Actual\"] - result_frame[\"Predicted\"]\n",
        "result_frame"
      ]
    },
    {
      "cell_type": "code",
      "execution_count": null,
      "metadata": {
        "id": "sQSvAqBYYvrl"
      },
      "outputs": [],
      "source": []
    }
  ],
  "metadata": {
    "colab": {
      "provenance": []
    },
    "kernelspec": {
      "display_name": "Python 3",
      "name": "python3"
    },
    "language_info": {
      "codemirror_mode": {
        "name": "ipython",
        "version": 3
      },
      "file_extension": ".py",
      "mimetype": "text/x-python",
      "name": "python",
      "nbconvert_exporter": "python",
      "pygments_lexer": "ipython3",
      "version": "3.11.4"
    }
  },
  "nbformat": 4,
  "nbformat_minor": 0
}
